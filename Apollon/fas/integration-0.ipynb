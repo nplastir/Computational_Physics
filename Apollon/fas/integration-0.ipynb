{
 "cells": [
  {
   "cell_type": "code",
   "execution_count": 1,
   "id": "6f1463fd-ac11-457a-8453-26dad0f5307d",
   "metadata": {},
   "outputs": [],
   "source": [
    "using Plots\n",
    "using LinearAlgebra"
   ]
  },
  {
   "cell_type": "markdown",
   "id": "c470fb43-fc94-4892-a7df-05b7a171f197",
   "metadata": {},
   "source": [
    "### Άσκηση Α1 (α)\n",
    "Υπολογίστε τη μάζα και το κέντρο βάρους κύβου μοναδιαίας ακμής και πυκνότητας $\\rho(x,y,z) = 1 + x^2 + 2y^2 + 3z^2$ με ακρίβεια 1%. Θεωρήστε ότι η αρχή των συντεταγμένων είναι το σημείο (0,0,0)\n",
    "\n",
    "Εν ολίγοις, θέλουμε τις εξής ποσότητες:\n",
    "\n",
    "$$M = \\int_D\\rho(\\vec r)d\\vec r = \\int_0^1\\int_0^1\\int_0^1\\rho(x,y,z)dxdydz$$\n",
    "\n",
    "$$\\overrightarrow C = \\int_D\\vec r\\rho(\\vec r)d\\vec r \\implies C_i = \\int_0^1\\int_0^1\\int_0^1r_i\\rho(x,y,z)dxdydz$$"
   ]
  },
  {
   "cell_type": "code",
   "execution_count": 2,
   "id": "d783c125-ed5e-4473-8d02-a087c1cf9ce7",
   "metadata": {},
   "outputs": [
    {
     "data": {
      "text/plain": [
       "density (generic function with 1 method)"
      ]
     },
     "execution_count": 2,
     "metadata": {},
     "output_type": "execute_result"
    }
   ],
   "source": [
    "function density(x::Float64, y::Float64, z::Float64)::Float64\n",
    "    1 + x ^ 2 + 2 * y ^ 2 + 3 * z ^ 2\n",
    "end"
   ]
  },
  {
   "cell_type": "code",
   "execution_count": 3,
   "id": "f1a8d905-b82d-424d-896a-cf7513d19730",
   "metadata": {},
   "outputs": [
    {
     "data": {
      "text/plain": [
       "gauss3_1d (generic function with 2 methods)"
      ]
     },
     "execution_count": 3,
     "metadata": {},
     "output_type": "execute_result"
    }
   ],
   "source": [
    "struct IntervalParams\n",
    "    lower::Float64\n",
    "    upper::Float64\n",
    "    partitions::Integer\n",
    "end\n",
    "\n",
    "g3r = [-0.7745966692, 0.0, 0.7745966692]\n",
    "g3w = [0.5555555556, 0.8888888888, 0.5555555556]\n",
    "\n",
    "function gauss3_1d(params::IntervalParams, f::Function)::Float64\n",
    "    result = 0.0\n",
    "    h = (params.upper - params.lower) / params.partitions\n",
    "\n",
    "    for i = 0:(params.partitions - 1)\n",
    "        xi = params.lower + h * i\n",
    "        \n",
    "        roots::Vector{Float64} = 0.5 * (h * g3r .+ (2 * xi + h))\n",
    "        \n",
    "        result += dot(g3w, map.(f, roots))\n",
    "    end\n",
    "    \n",
    "    return result * 0.5 * h\n",
    "end\n",
    "\n",
    "function gauss3_1d(a::Float64, b::Float64, N::Integer, f::Function)::Float64\n",
    "    gauss3_1d(IntervalParams(a,b,N), f)\n",
    "end"
   ]
  },
  {
   "cell_type": "code",
   "execution_count": 4,
   "id": "6f7a10f2-0296-44be-8470-0c0cfeae5792",
   "metadata": {},
   "outputs": [
    {
     "data": {
      "text/plain": [
       "317.3442466212831"
      ]
     },
     "execution_count": 4,
     "metadata": {},
     "output_type": "execute_result"
    }
   ],
   "source": [
    "# accuracy test\n",
    "function g(x::Float64) x ^ 6 - x ^ 2 * sin(2 * x) end\n",
    "\n",
    "gauss3_1d(1.0, 3.0, 10, g)"
   ]
  },
  {
   "cell_type": "markdown",
   "id": "c8dc1066-261a-4a47-af76-342504eda037",
   "metadata": {},
   "source": [
    "Στο 1-D, οποιαδήποτε μέθοδος χρησιμοποιούμε είναι ένα συναρτησοειδές $\\mathcal M:(\\mathbb R\\to\\mathbb R)\\to\\mathbb R$\n",
    "\n",
    "Στο d-D, ορίζουμε συναρτησοειδή ως προς τις μεταβλητές $x_i$: $\\mathcal M_i:(\\mathbb R^{d-i}\\to\\mathbb R)\\to(\\mathbb R^{d-i-1}\\to\\mathbb R)$ τέτοια ώστε:\n",
    "\n",
    "$$\\int_{\\Delta_0}f(\\vec x\\,)dx_0 \\approx \\mathcal M_0[f],\\quad \\int_{\\Delta_1}dx_1\\int_{\\Delta_0}dx_0f(\\vec x) \\approx \\mathcal M_1\\big[\\mathcal M_0[f]\\big],\\dots$$\n",
    "\n",
    "Για όλο τον κύβο:\n",
    "\n",
    "$$\n",
    "\\begin{align}\n",
    "    \\int_{\\mathcal D}f(\\vec x)d\\vec x &= \\mathcal M_{d-1}\\Big[\\dots\\mathcal M_1\\big[\\mathcal M_0[f]\\big]\\Big]\n",
    "\\end{align}\n",
    "$$"
   ]
  },
  {
   "cell_type": "code",
   "execution_count": 5,
   "id": "56a3c800-83f8-43d1-a763-f2c0c3eb07f9",
   "metadata": {},
   "outputs": [
    {
     "data": {
      "text/plain": [
       "integrate_rect_2d (generic function with 1 method)"
      ]
     },
     "execution_count": 5,
     "metadata": {},
     "output_type": "execute_result"
    }
   ],
   "source": [
    "function integrate_rect_2d(params::Vector{IntervalParams}, f::Function, integration_method::Function)::Float64\n",
    "    return integration_method(\n",
    "        params[2], \n",
    "        y -> integration_method(\n",
    "            params[1], \n",
    "            x -> f(x,y)\n",
    "        )\n",
    "    )\n",
    "end"
   ]
  },
  {
   "cell_type": "code",
   "execution_count": 6,
   "id": "0a7ea275-5cad-4552-9671-83c36e479d26",
   "metadata": {},
   "outputs": [
    {
     "data": {
      "text/plain": [
       "(428.24278931419815, 428.7851993986164)"
      ]
     },
     "execution_count": 6,
     "metadata": {},
     "output_type": "execute_result"
    }
   ],
   "source": [
    "# accuracy test\n",
    "function test2d(x::Float64, y::Float64)::Float64 exp(x) + exp(y) end\n",
    "\n",
    "\n",
    "result0 = integrate_rect_2d(\n",
    "    [IntervalParams(0.0, 4.0, 1), IntervalParams(0.0, 4.0, 1)], \n",
    "    test2d, gauss3_1d\n",
    ")\n",
    "result1 = integrate_rect_2d(\n",
    "    [IntervalParams(0.0, 4.0, 10), IntervalParams(0.0, 4.0, 10)], \n",
    "    test2d, gauss3_1d\n",
    ")\n",
    "result0, result1"
   ]
  },
  {
   "cell_type": "code",
   "execution_count": 7,
   "id": "229a059a-d6e9-4e96-b918-9986d0cf5ecc",
   "metadata": {},
   "outputs": [
    {
     "data": {
      "text/plain": [
       "integrate_rect_3d (generic function with 1 method)"
      ]
     },
     "execution_count": 7,
     "metadata": {},
     "output_type": "execute_result"
    }
   ],
   "source": [
    "function integrate_rect_3d(params::Vector{IntervalParams}, f::Function, integration_method::Function)::Float64\n",
    "    return integration_method(\n",
    "        params[3], \n",
    "        z -> integration_method(\n",
    "            params[2], \n",
    "            y -> integration_method(\n",
    "                params[1],\n",
    "                x -> f(x,y,z)\n",
    "            )\n",
    "        )\n",
    "    )\n",
    "end"
   ]
  },
  {
   "cell_type": "code",
   "execution_count": 8,
   "id": "0fa8ba99-52e2-4e5b-9d6d-490ab8274850",
   "metadata": {},
   "outputs": [
    {
     "data": {
      "text/plain": [
       "4-element Vector{Float64}:\n",
       " 2.999999999986446\n",
       " 2.9999999999966116\n",
       " 2.9999999999991536\n",
       " 2.999999999999789"
      ]
     },
     "execution_count": 8,
     "metadata": {},
     "output_type": "execute_result"
    }
   ],
   "source": [
    "a = 0.0; b = 1.0\n",
    "\n",
    "function get_cube_params(a, b, N)\n",
    "    edge = IntervalParams(a, b, N)\n",
    "    return [edge, edge, edge]\n",
    "end\n",
    "\n",
    "[\n",
    "    integrate_rect_3d(get_cube_params(a, b, N), density, gauss3_1d)\n",
    "    for N = [1, 2, 4, 8]\n",
    "]"
   ]
  },
  {
   "cell_type": "code",
   "execution_count": 9,
   "id": "7f7b7944-c1b1-421c-8c71-d33d898975eb",
   "metadata": {},
   "outputs": [
    {
     "data": {
      "text/plain": [
       "integrate_rect_Nd (generic function with 2 methods)"
      ]
     },
     "execution_count": 9,
     "metadata": {},
     "output_type": "execute_result"
    }
   ],
   "source": [
    "function tail(v::Vector) v[2:length(v)] end\n",
    "\n",
    "function integrate_rect_Nd(\n",
    "    variables::Vector{Float64}, params::Vector{IntervalParams}, \n",
    "    f::Function, integration_method::Function\n",
    ")::Float64\n",
    "    if length(params) == 0\n",
    "        return f(variables)\n",
    "    end\n",
    "    \n",
    "    return integration_method(\n",
    "        params[1],\n",
    "        x -> integrate_rect_Nd(\n",
    "            vcat([x], variables), tail(params), f, integration_method\n",
    "        )\n",
    "    )\n",
    "end\n",
    "\n",
    "function integrate_rect_Nd(\n",
    "    params::Vector{IntervalParams}, f::Function, integration_method::Function\n",
    ")::Float64\n",
    "    variables::Vector{Float64} = []\n",
    "    integrate_rect_Nd(variables, params, f, integration_method)\n",
    "end"
   ]
  },
  {
   "cell_type": "code",
   "execution_count": 10,
   "id": "9e960e13-ad85-47f5-b29f-6e26b57da121",
   "metadata": {},
   "outputs": [
    {
     "data": {
      "text/plain": [
       "4-element Vector{Float64}:\n",
       " 2.999999999986446\n",
       " 2.9999999999966116\n",
       " 2.9999999999991536\n",
       " 2.999999999999789"
      ]
     },
     "execution_count": 10,
     "metadata": {},
     "output_type": "execute_result"
    }
   ],
   "source": [
    "function density(r::Vector{Float64}) density(r[1], r[2], r[3]) end\n",
    "\n",
    "mass = [\n",
    "    integrate_rect_Nd(get_cube_params(a, b, N), density, gauss3_1d)\n",
    "    for N = [1, 2, 4, 8]\n",
    "] # gives the same results as before!"
   ]
  },
  {
   "cell_type": "code",
   "execution_count": 11,
   "id": "ede6828f-a6a4-4d8b-b551-32c16e2a63e2",
   "metadata": {},
   "outputs": [
    {
     "data": {
      "text/plain": [
       "2-element Vector{Float64}:\n",
       " 3.2792406782831557e-13\n",
       " 2.0499730945014182e-14"
      ]
     },
     "execution_count": 11,
     "metadata": {},
     "output_type": "execute_result"
    }
   ],
   "source": [
    "function estimate_error_2n(result_n::Float64, result_2n::Float64, order::Integer)\n",
    "    abs(result_2n - result_n) / (2 ^ (order - 1) - 1)\n",
    "end\n",
    "\n",
    "[\n",
    "    estimate_error_2n(mass[1], mass[2], 6)\n",
    "    estimate_error_2n(mass[3], mass[4], 6)\n",
    "]"
   ]
  },
  {
   "cell_type": "markdown",
   "id": "ce0961b3-aa76-454f-af53-f9e447db468a",
   "metadata": {},
   "source": [
    "#### Υπολογισμός κέντρου βάρους"
   ]
  },
  {
   "cell_type": "code",
   "execution_count": 12,
   "id": "0f4c5b3f-57a4-4192-b8e6-26e874c6cb01",
   "metadata": {},
   "outputs": [
    {
     "data": {
      "text/plain": [
       "4-element Vector{Vector{Float64}}:\n",
       " [1.5833333333242972, 1.6666666666553716, 1.749999999986446]\n",
       " [1.5833333333310744, 1.666666666663843, 1.7499999999966114]\n",
       " [1.5833333333327686, 1.6666666666659609, 1.7499999999991531]\n",
       " [1.583333333333192, 1.6666666666664902, 1.7499999999997886]"
      ]
     },
     "execution_count": 12,
     "metadata": {},
     "output_type": "execute_result"
    }
   ],
   "source": [
    "[\n",
    "    [\n",
    "        integrate_rect_Nd(get_cube_params(a, b, N), r -> r[i] * density(r), gauss3_1d)\n",
    "        for i = 1:3\n",
    "    ]\n",
    "    for N = [1, 2, 4, 8]\n",
    "]"
   ]
  },
  {
   "cell_type": "markdown",
   "id": "6d128a54-71b2-432c-8869-a56722e969f1",
   "metadata": {},
   "source": [
    "### Άσκηση Α1 (β)\n",
    "Υπολογίστε με ακρίβεια 0.1% την ροπή αδράνειας σφαίρας μοναδιαίας ακτίνας και πυκνότητας $\\rho = 1 + e^r$ ως προς άξονα που περνά από το κέντρο της σφαίρας. Θα χρησιμοποιήσουμε την προσαρμοζόμενη μέθοδο.\n",
    "\n",
    "Εν ολίγοις, θέλουμε την εξής ποσότητα:\n",
    "\n",
    "$$I = \\int_0^1 r^2\\rho(r)dr$$"
   ]
  },
  {
   "cell_type": "code",
   "execution_count": 13,
   "id": "98d44a69-9e58-42fc-94d6-9b51bb93b4d6",
   "metadata": {},
   "outputs": [
    {
     "data": {
      "text/plain": [
       "adjustor_1d (generic function with 1 method)"
      ]
     },
     "execution_count": 13,
     "metadata": {},
     "output_type": "execute_result"
    }
   ],
   "source": [
    "function simpson_1d(a::Float64, b::Float64, f::Function)::Float64\n",
    "    ((b - a) / 6) * (f(a) + f(b) + 4 * f((a + b) / 2))\n",
    "end\n",
    "\n",
    "function adjustor_1d(\n",
    "    a::Float64, b::Float64, tolerance::Float64, \n",
    "    f::Function, integration_method::Function, method_order::Int64\n",
    ")::Float64\n",
    "    S0 = integration_method(a, b, f) # \"zeroth\" order approximation\n",
    "    \n",
    "    midpoint = 0.5 * (a + b)\n",
    "    S1 = integration_method(a, midpoint, f) + \n",
    "         integration_method(midpoint, b, f) # \"first\" order approximation\n",
    "    \n",
    "    if abs(S0 - S1) < tolerance * S1 / (2 ^ (method_order - 1) - 1)\n",
    "        return S1\n",
    "    end\n",
    "    \n",
    "    return adjustor_1d(a, midpoint, 0.5 * tolerance, f, integration_method, method_order) + \n",
    "           adjustor_1d(midpoint, b, 0.5 * tolerance, f, integration_method, method_order)\n",
    "end"
   ]
  },
  {
   "cell_type": "code",
   "execution_count": 14,
   "id": "6ecc4496-dbeb-4acd-acb3-084b2b281744",
   "metadata": {},
   "outputs": [
    {
     "data": {
      "text/plain": [
       "317.3962362243356"
      ]
     },
     "execution_count": 14,
     "metadata": {},
     "output_type": "execute_result"
    }
   ],
   "source": [
    "# accuracy test\n",
    "function g(x::Float64) x ^ 6 - x ^ 2 * sin(2 * x) end\n",
    "\n",
    "adjustor_1d(1.0, 3.0, 0.1, g, simpson_1d, 5)"
   ]
  },
  {
   "cell_type": "code",
   "execution_count": 15,
   "id": "2ce5d00e-58cc-4262-b6e4-571f46782ab8",
   "metadata": {},
   "outputs": [
    {
     "data": {
      "text/plain": [
       "2-element Vector{Float64}:\n",
       " 1.0522415712799635\n",
       " 1.0516146710593184"
      ]
     },
     "execution_count": 15,
     "metadata": {},
     "output_type": "execute_result"
    }
   ],
   "source": [
    "function radial_density(r::Float64) 1 + exp(r) end\n",
    "\n",
    "function gauss3_1d(a::Float64, b::Float64, f::Function) gauss3_1d(a, b, 1, f) end\n",
    "\n",
    "function moment_of_inertia(r) r ^ 2 * radial_density(r) end\n",
    "\n",
    "[\n",
    "    adjustor_1d(0.0, 1.0, 0.2, moment_of_inertia, simpson_1d, 5)\n",
    "    adjustor_1d(0.0, 1.0, 0.2, moment_of_inertia, gauss3_1d, 6)\n",
    "]"
   ]
  },
  {
   "cell_type": "code",
   "execution_count": 38,
   "id": "1e6ba454-f6b9-44dc-ba98-962cc4e65069",
   "metadata": {},
   "outputs": [
    {
     "data": {
      "image/svg+xml": [
       "<?xml version=\"1.0\" encoding=\"utf-8\"?>\n",
       "<svg xmlns=\"http://www.w3.org/2000/svg\" xmlns:xlink=\"http://www.w3.org/1999/xlink\" width=\"600\" height=\"400\" viewBox=\"0 0 2400 1600\">\n",
       "<defs>\n",
       "  <clipPath id=\"clip790\">\n",
       "    <rect x=\"0\" y=\"0\" width=\"2400\" height=\"1600\"/>\n",
       "  </clipPath>\n",
       "</defs>\n",
       "<path clip-path=\"url(#clip790)\" d=\"M0 1600 L2400 1600 L2400 0 L0 0  Z\" fill=\"#ffffff\" fill-rule=\"evenodd\" fill-opacity=\"1\"/>\n",
       "<defs>\n",
       "  <clipPath id=\"clip791\">\n",
       "    <rect x=\"480\" y=\"0\" width=\"1681\" height=\"1600\"/>\n",
       "  </clipPath>\n",
       "</defs>\n",
       "<path clip-path=\"url(#clip790)\" d=\"M172.015 1486.45 L2352.76 1486.45 L2352.76 47.2441 L172.015 47.2441  Z\" fill=\"#ffffff\" fill-rule=\"evenodd\" fill-opacity=\"1\"/>\n",
       "<defs>\n",
       "  <clipPath id=\"clip792\">\n",
       "    <rect x=\"172\" y=\"47\" width=\"2182\" height=\"1440\"/>\n",
       "  </clipPath>\n",
       "</defs>\n",
       "<polyline clip-path=\"url(#clip792)\" style=\"stroke:#000000; stroke-linecap:round; stroke-linejoin:round; stroke-width:2; stroke-opacity:0.1; fill:none\" points=\"370.264,1486.45 370.264,47.2441 \"/>\n",
       "<polyline clip-path=\"url(#clip792)\" style=\"stroke:#000000; stroke-linecap:round; stroke-linejoin:round; stroke-width:2; stroke-opacity:0.1; fill:none\" points=\"766.762,1486.45 766.762,47.2441 \"/>\n",
       "<polyline clip-path=\"url(#clip792)\" style=\"stroke:#000000; stroke-linecap:round; stroke-linejoin:round; stroke-width:2; stroke-opacity:0.1; fill:none\" points=\"1163.26,1486.45 1163.26,47.2441 \"/>\n",
       "<polyline clip-path=\"url(#clip792)\" style=\"stroke:#000000; stroke-linecap:round; stroke-linejoin:round; stroke-width:2; stroke-opacity:0.1; fill:none\" points=\"1559.76,1486.45 1559.76,47.2441 \"/>\n",
       "<polyline clip-path=\"url(#clip792)\" style=\"stroke:#000000; stroke-linecap:round; stroke-linejoin:round; stroke-width:2; stroke-opacity:0.1; fill:none\" points=\"1956.26,1486.45 1956.26,47.2441 \"/>\n",
       "<polyline clip-path=\"url(#clip792)\" style=\"stroke:#000000; stroke-linecap:round; stroke-linejoin:round; stroke-width:2; stroke-opacity:0.1; fill:none\" points=\"2352.76,1486.45 2352.76,47.2441 \"/>\n",
       "<polyline clip-path=\"url(#clip790)\" style=\"stroke:#000000; stroke-linecap:round; stroke-linejoin:round; stroke-width:4; stroke-opacity:1; fill:none\" points=\"172.015,1486.45 2352.76,1486.45 \"/>\n",
       "<polyline clip-path=\"url(#clip790)\" style=\"stroke:#000000; stroke-linecap:round; stroke-linejoin:round; stroke-width:4; stroke-opacity:1; fill:none\" points=\"370.264,1486.45 370.264,1467.55 \"/>\n",
       "<polyline clip-path=\"url(#clip790)\" style=\"stroke:#000000; stroke-linecap:round; stroke-linejoin:round; stroke-width:4; stroke-opacity:1; fill:none\" points=\"766.762,1486.45 766.762,1467.55 \"/>\n",
       "<polyline clip-path=\"url(#clip790)\" style=\"stroke:#000000; stroke-linecap:round; stroke-linejoin:round; stroke-width:4; stroke-opacity:1; fill:none\" points=\"1163.26,1486.45 1163.26,1467.55 \"/>\n",
       "<polyline clip-path=\"url(#clip790)\" style=\"stroke:#000000; stroke-linecap:round; stroke-linejoin:round; stroke-width:4; stroke-opacity:1; fill:none\" points=\"1559.76,1486.45 1559.76,1467.55 \"/>\n",
       "<polyline clip-path=\"url(#clip790)\" style=\"stroke:#000000; stroke-linecap:round; stroke-linejoin:round; stroke-width:4; stroke-opacity:1; fill:none\" points=\"1956.26,1486.45 1956.26,1467.55 \"/>\n",
       "<polyline clip-path=\"url(#clip790)\" style=\"stroke:#000000; stroke-linecap:round; stroke-linejoin:round; stroke-width:4; stroke-opacity:1; fill:none\" points=\"2352.76,1486.45 2352.76,1467.55 \"/>\n",
       "<path clip-path=\"url(#clip790)\" d=\"M349.037 1544.91 L365.357 1544.91 L365.357 1548.85 L343.412 1548.85 L343.412 1544.91 Q346.074 1542.16 350.658 1537.53 Q355.264 1532.88 356.445 1531.53 Q358.69 1529.01 359.57 1527.27 Q360.472 1525.51 360.472 1523.82 Q360.472 1521.07 358.528 1519.33 Q356.607 1517.6 353.505 1517.6 Q351.306 1517.6 348.852 1518.36 Q346.422 1519.13 343.644 1520.68 L343.644 1515.95 Q346.468 1514.82 348.922 1514.24 Q351.375 1513.66 353.412 1513.66 Q358.783 1513.66 361.977 1516.35 Q365.171 1519.03 365.171 1523.52 Q365.171 1525.65 364.361 1527.57 Q363.574 1529.47 361.468 1532.07 Q360.889 1532.74 357.787 1535.95 Q354.685 1539.15 349.037 1544.91 Z\" fill=\"#000000\" fill-rule=\"nonzero\" fill-opacity=\"1\" /><path clip-path=\"url(#clip790)\" d=\"M385.171 1517.37 Q381.56 1517.37 379.732 1520.93 Q377.926 1524.47 377.926 1531.6 Q377.926 1538.71 379.732 1542.27 Q381.56 1545.82 385.171 1545.82 Q388.806 1545.82 390.611 1542.27 Q392.44 1538.71 392.44 1531.6 Q392.44 1524.47 390.611 1520.93 Q388.806 1517.37 385.171 1517.37 M385.171 1513.66 Q390.981 1513.66 394.037 1518.27 Q397.116 1522.85 397.116 1531.6 Q397.116 1540.33 394.037 1544.94 Q390.981 1549.52 385.171 1549.52 Q379.361 1549.52 376.282 1544.94 Q373.227 1540.33 373.227 1531.6 Q373.227 1522.85 376.282 1518.27 Q379.361 1513.66 385.171 1513.66 Z\" fill=\"#000000\" fill-rule=\"nonzero\" fill-opacity=\"1\" /><path clip-path=\"url(#clip790)\" d=\"M755.605 1530.21 Q758.962 1530.93 760.836 1533.2 Q762.735 1535.47 762.735 1538.8 Q762.735 1543.92 759.216 1546.72 Q755.698 1549.52 749.216 1549.52 Q747.04 1549.52 744.725 1549.08 Q742.434 1548.66 739.98 1547.81 L739.98 1543.29 Q741.925 1544.43 744.239 1545.01 Q746.554 1545.58 749.077 1545.58 Q753.475 1545.58 755.767 1543.85 Q758.082 1542.11 758.082 1538.8 Q758.082 1535.75 755.929 1534.03 Q753.799 1532.3 749.98 1532.3 L745.952 1532.3 L745.952 1528.45 L750.165 1528.45 Q753.614 1528.45 755.443 1527.09 Q757.272 1525.7 757.272 1523.11 Q757.272 1520.45 755.374 1519.03 Q753.499 1517.6 749.98 1517.6 Q748.059 1517.6 745.86 1518.01 Q743.661 1518.43 741.022 1519.31 L741.022 1515.14 Q743.684 1514.4 745.999 1514.03 Q748.337 1513.66 750.397 1513.66 Q755.721 1513.66 758.823 1516.09 Q761.924 1518.5 761.924 1522.62 Q761.924 1525.49 760.281 1527.48 Q758.637 1529.45 755.605 1530.21 Z\" fill=\"#000000\" fill-rule=\"nonzero\" fill-opacity=\"1\" /><path clip-path=\"url(#clip790)\" d=\"M781.6 1517.37 Q777.989 1517.37 776.16 1520.93 Q774.355 1524.47 774.355 1531.6 Q774.355 1538.71 776.16 1542.27 Q777.989 1545.82 781.6 1545.82 Q785.235 1545.82 787.04 1542.27 Q788.869 1538.71 788.869 1531.6 Q788.869 1524.47 787.04 1520.93 Q785.235 1517.37 781.6 1517.37 M781.6 1513.66 Q787.41 1513.66 790.466 1518.27 Q793.545 1522.85 793.545 1531.6 Q793.545 1540.33 790.466 1544.94 Q787.41 1549.52 781.6 1549.52 Q775.79 1549.52 772.711 1544.94 Q769.656 1540.33 769.656 1531.6 Q769.656 1522.85 772.711 1518.27 Q775.79 1513.66 781.6 1513.66 Z\" fill=\"#000000\" fill-rule=\"nonzero\" fill-opacity=\"1\" /><path clip-path=\"url(#clip790)\" d=\"M1151.43 1518.36 L1139.63 1536.81 L1151.43 1536.81 L1151.43 1518.36 M1150.21 1514.29 L1156.08 1514.29 L1156.08 1536.81 L1161.02 1536.81 L1161.02 1540.7 L1156.08 1540.7 L1156.08 1548.85 L1151.43 1548.85 L1151.43 1540.7 L1135.83 1540.7 L1135.83 1536.19 L1150.21 1514.29 Z\" fill=\"#000000\" fill-rule=\"nonzero\" fill-opacity=\"1\" /><path clip-path=\"url(#clip790)\" d=\"M1178.75 1517.37 Q1175.14 1517.37 1173.31 1520.93 Q1171.5 1524.47 1171.5 1531.6 Q1171.5 1538.71 1173.31 1542.27 Q1175.14 1545.82 1178.75 1545.82 Q1182.38 1545.82 1184.19 1542.27 Q1186.02 1538.71 1186.02 1531.6 Q1186.02 1524.47 1184.19 1520.93 Q1182.38 1517.37 1178.75 1517.37 M1178.75 1513.66 Q1184.56 1513.66 1187.61 1518.27 Q1190.69 1522.85 1190.69 1531.6 Q1190.69 1540.33 1187.61 1544.94 Q1184.56 1549.52 1178.75 1549.52 Q1172.94 1549.52 1169.86 1544.94 Q1166.8 1540.33 1166.8 1531.6 Q1166.8 1522.85 1169.86 1518.27 Q1172.94 1513.66 1178.75 1513.66 Z\" fill=\"#000000\" fill-rule=\"nonzero\" fill-opacity=\"1\" /><path clip-path=\"url(#clip790)\" d=\"M1534.46 1514.29 L1552.81 1514.29 L1552.81 1518.22 L1538.74 1518.22 L1538.74 1526.7 Q1539.76 1526.35 1540.78 1526.19 Q1541.8 1526 1542.81 1526 Q1548.6 1526 1551.98 1529.17 Q1555.36 1532.34 1555.36 1537.76 Q1555.36 1543.34 1551.89 1546.44 Q1548.42 1549.52 1542.1 1549.52 Q1539.92 1549.52 1537.65 1549.15 Q1535.41 1548.78 1533 1548.04 L1533 1543.34 Q1535.08 1544.47 1537.31 1545.03 Q1539.53 1545.58 1542 1545.58 Q1546.01 1545.58 1548.35 1543.48 Q1550.69 1541.37 1550.69 1537.76 Q1550.69 1534.15 1548.35 1532.04 Q1546.01 1529.94 1542 1529.94 Q1540.13 1529.94 1538.25 1530.35 Q1536.4 1530.77 1534.46 1531.65 L1534.46 1514.29 Z\" fill=\"#000000\" fill-rule=\"nonzero\" fill-opacity=\"1\" /><path clip-path=\"url(#clip790)\" d=\"M1574.57 1517.37 Q1570.96 1517.37 1569.13 1520.93 Q1567.33 1524.47 1567.33 1531.6 Q1567.33 1538.71 1569.13 1542.27 Q1570.96 1545.82 1574.57 1545.82 Q1578.21 1545.82 1580.01 1542.27 Q1581.84 1538.71 1581.84 1531.6 Q1581.84 1524.47 1580.01 1520.93 Q1578.21 1517.37 1574.57 1517.37 M1574.57 1513.66 Q1580.38 1513.66 1583.44 1518.27 Q1586.52 1522.85 1586.52 1531.6 Q1586.52 1540.33 1583.44 1544.94 Q1580.38 1549.52 1574.57 1549.52 Q1568.76 1549.52 1565.69 1544.94 Q1562.63 1540.33 1562.63 1531.6 Q1562.63 1522.85 1565.69 1518.27 Q1568.76 1513.66 1574.57 1513.66 Z\" fill=\"#000000\" fill-rule=\"nonzero\" fill-opacity=\"1\" /><path clip-path=\"url(#clip790)\" d=\"M1941.66 1529.7 Q1938.51 1529.7 1936.66 1531.86 Q1934.83 1534.01 1934.83 1537.76 Q1934.83 1541.49 1936.66 1543.66 Q1938.51 1545.82 1941.66 1545.82 Q1944.81 1545.82 1946.64 1543.66 Q1948.49 1541.49 1948.49 1537.76 Q1948.49 1534.01 1946.64 1531.86 Q1944.81 1529.7 1941.66 1529.7 M1950.95 1515.05 L1950.95 1519.31 Q1949.19 1518.48 1947.38 1518.04 Q1945.6 1517.6 1943.84 1517.6 Q1939.21 1517.6 1936.76 1520.72 Q1934.32 1523.85 1933.98 1530.17 Q1935.34 1528.15 1937.4 1527.09 Q1939.46 1526 1941.94 1526 Q1947.15 1526 1950.16 1529.17 Q1953.19 1532.32 1953.19 1537.76 Q1953.19 1543.08 1950.04 1546.3 Q1946.89 1549.52 1941.66 1549.52 Q1935.67 1549.52 1932.5 1544.94 Q1929.32 1540.33 1929.32 1531.6 Q1929.32 1523.41 1933.21 1518.55 Q1937.1 1513.66 1943.65 1513.66 Q1945.41 1513.66 1947.2 1514.01 Q1949 1514.36 1950.95 1515.05 Z\" fill=\"#000000\" fill-rule=\"nonzero\" fill-opacity=\"1\" /><path clip-path=\"url(#clip790)\" d=\"M1971.25 1517.37 Q1967.63 1517.37 1965.81 1520.93 Q1964 1524.47 1964 1531.6 Q1964 1538.71 1965.81 1542.27 Q1967.63 1545.82 1971.25 1545.82 Q1974.88 1545.82 1976.69 1542.27 Q1978.51 1538.71 1978.51 1531.6 Q1978.51 1524.47 1976.69 1520.93 Q1974.88 1517.37 1971.25 1517.37 M1971.25 1513.66 Q1977.06 1513.66 1980.11 1518.27 Q1983.19 1522.85 1983.19 1531.6 Q1983.19 1540.33 1980.11 1544.94 Q1977.06 1549.52 1971.25 1549.52 Q1965.44 1549.52 1962.36 1544.94 Q1959.3 1540.33 1959.3 1531.6 Q1959.3 1522.85 1962.36 1518.27 Q1965.44 1513.66 1971.25 1513.66 Z\" fill=\"#000000\" fill-rule=\"nonzero\" fill-opacity=\"1\" /><path clip-path=\"url(#clip790)\" d=\"M2326.11 1514.29 L2348.33 1514.29 L2348.33 1516.28 L2335.79 1548.85 L2330.9 1548.85 L2342.71 1518.22 L2326.11 1518.22 L2326.11 1514.29 Z\" fill=\"#000000\" fill-rule=\"nonzero\" fill-opacity=\"1\" /><path clip-path=\"url(#clip790)\" d=\"M2367.45 1517.37 Q2363.84 1517.37 2362.02 1520.93 Q2360.21 1524.47 2360.21 1531.6 Q2360.21 1538.71 2362.02 1542.27 Q2363.84 1545.82 2367.45 1545.82 Q2371.09 1545.82 2372.89 1542.27 Q2374.72 1538.71 2374.72 1531.6 Q2374.72 1524.47 2372.89 1520.93 Q2371.09 1517.37 2367.45 1517.37 M2367.45 1513.66 Q2373.27 1513.66 2376.32 1518.27 Q2379.4 1522.85 2379.4 1531.6 Q2379.4 1540.33 2376.32 1544.94 Q2373.27 1549.52 2367.45 1549.52 Q2361.64 1549.52 2358.57 1544.94 Q2355.51 1540.33 2355.51 1531.6 Q2355.51 1522.85 2358.57 1518.27 Q2361.64 1513.66 2367.45 1513.66 Z\" fill=\"#000000\" fill-rule=\"nonzero\" fill-opacity=\"1\" /><polyline clip-path=\"url(#clip792)\" style=\"stroke:#000000; stroke-linecap:round; stroke-linejoin:round; stroke-width:2; stroke-opacity:0.1; fill:none\" points=\"172.015,1329.88 2352.76,1329.88 \"/>\n",
       "<polyline clip-path=\"url(#clip792)\" style=\"stroke:#000000; stroke-linecap:round; stroke-linejoin:round; stroke-width:2; stroke-opacity:0.1; fill:none\" points=\"172.015,1136.82 2352.76,1136.82 \"/>\n",
       "<polyline clip-path=\"url(#clip792)\" style=\"stroke:#000000; stroke-linecap:round; stroke-linejoin:round; stroke-width:2; stroke-opacity:0.1; fill:none\" points=\"172.015,943.752 2352.76,943.752 \"/>\n",
       "<polyline clip-path=\"url(#clip792)\" style=\"stroke:#000000; stroke-linecap:round; stroke-linejoin:round; stroke-width:2; stroke-opacity:0.1; fill:none\" points=\"172.015,750.69 2352.76,750.69 \"/>\n",
       "<polyline clip-path=\"url(#clip792)\" style=\"stroke:#000000; stroke-linecap:round; stroke-linejoin:round; stroke-width:2; stroke-opacity:0.1; fill:none\" points=\"172.015,557.627 2352.76,557.627 \"/>\n",
       "<polyline clip-path=\"url(#clip792)\" style=\"stroke:#000000; stroke-linecap:round; stroke-linejoin:round; stroke-width:2; stroke-opacity:0.1; fill:none\" points=\"172.015,364.564 2352.76,364.564 \"/>\n",
       "<polyline clip-path=\"url(#clip792)\" style=\"stroke:#000000; stroke-linecap:round; stroke-linejoin:round; stroke-width:2; stroke-opacity:0.1; fill:none\" points=\"172.015,171.501 2352.76,171.501 \"/>\n",
       "<polyline clip-path=\"url(#clip790)\" style=\"stroke:#000000; stroke-linecap:round; stroke-linejoin:round; stroke-width:4; stroke-opacity:1; fill:none\" points=\"172.015,1486.45 172.015,47.2441 \"/>\n",
       "<polyline clip-path=\"url(#clip790)\" style=\"stroke:#000000; stroke-linecap:round; stroke-linejoin:round; stroke-width:4; stroke-opacity:1; fill:none\" points=\"172.015,1329.88 190.912,1329.88 \"/>\n",
       "<polyline clip-path=\"url(#clip790)\" style=\"stroke:#000000; stroke-linecap:round; stroke-linejoin:round; stroke-width:4; stroke-opacity:1; fill:none\" points=\"172.015,1136.82 190.912,1136.82 \"/>\n",
       "<polyline clip-path=\"url(#clip790)\" style=\"stroke:#000000; stroke-linecap:round; stroke-linejoin:round; stroke-width:4; stroke-opacity:1; fill:none\" points=\"172.015,943.752 190.912,943.752 \"/>\n",
       "<polyline clip-path=\"url(#clip790)\" style=\"stroke:#000000; stroke-linecap:round; stroke-linejoin:round; stroke-width:4; stroke-opacity:1; fill:none\" points=\"172.015,750.69 190.912,750.69 \"/>\n",
       "<polyline clip-path=\"url(#clip790)\" style=\"stroke:#000000; stroke-linecap:round; stroke-linejoin:round; stroke-width:4; stroke-opacity:1; fill:none\" points=\"172.015,557.627 190.912,557.627 \"/>\n",
       "<polyline clip-path=\"url(#clip790)\" style=\"stroke:#000000; stroke-linecap:round; stroke-linejoin:round; stroke-width:4; stroke-opacity:1; fill:none\" points=\"172.015,364.564 190.912,364.564 \"/>\n",
       "<polyline clip-path=\"url(#clip790)\" style=\"stroke:#000000; stroke-linecap:round; stroke-linejoin:round; stroke-width:4; stroke-opacity:1; fill:none\" points=\"172.015,171.501 190.912,171.501 \"/>\n",
       "<path clip-path=\"url(#clip790)\" d=\"M54.5569 1343.22 L62.1958 1343.22 L62.1958 1316.86 L53.8856 1318.52 L53.8856 1314.26 L62.1495 1312.6 L66.8254 1312.6 L66.8254 1343.22 L74.4642 1343.22 L74.4642 1347.16 L54.5569 1347.16 L54.5569 1343.22 Z\" fill=\"#000000\" fill-rule=\"nonzero\" fill-opacity=\"1\" /><path clip-path=\"url(#clip790)\" d=\"M83.9549 1312.6 L102.311 1312.6 L102.311 1316.53 L88.2373 1316.53 L88.2373 1325.01 Q89.2558 1324.66 90.2743 1324.5 Q91.2928 1324.31 92.3113 1324.31 Q98.0984 1324.31 101.478 1327.48 Q104.858 1330.65 104.858 1336.07 Q104.858 1341.65 101.385 1344.75 Q97.9132 1347.83 91.5938 1347.83 Q89.4178 1347.83 87.1493 1347.46 Q84.904 1347.09 82.4966 1346.35 L82.4966 1341.65 Q84.5799 1342.78 86.8021 1343.34 Q89.0243 1343.89 91.5012 1343.89 Q95.5058 1343.89 97.8437 1341.79 Q100.182 1339.68 100.182 1336.07 Q100.182 1332.46 97.8437 1330.35 Q95.5058 1328.25 91.5012 1328.25 Q89.6262 1328.25 87.7512 1328.66 Q85.8993 1329.08 83.9549 1329.96 L83.9549 1312.6 Z\" fill=\"#000000\" fill-rule=\"nonzero\" fill-opacity=\"1\" /><path clip-path=\"url(#clip790)\" d=\"M124.07 1315.68 Q120.459 1315.68 118.631 1319.24 Q116.825 1322.78 116.825 1329.91 Q116.825 1337.02 118.631 1340.58 Q120.459 1344.13 124.07 1344.13 Q127.705 1344.13 129.51 1340.58 Q131.339 1337.02 131.339 1329.91 Q131.339 1322.78 129.51 1319.24 Q127.705 1315.68 124.07 1315.68 M124.07 1311.97 Q129.881 1311.97 132.936 1316.58 Q136.015 1321.16 136.015 1329.91 Q136.015 1338.64 132.936 1343.25 Q129.881 1347.83 124.07 1347.83 Q118.26 1347.83 115.182 1343.25 Q112.126 1338.64 112.126 1329.91 Q112.126 1321.16 115.182 1316.58 Q118.26 1311.97 124.07 1311.97 Z\" fill=\"#000000\" fill-rule=\"nonzero\" fill-opacity=\"1\" /><path clip-path=\"url(#clip790)\" d=\"M57.7745 1150.16 L74.0939 1150.16 L74.0939 1154.1 L52.1495 1154.1 L52.1495 1150.16 Q54.8115 1147.41 59.3949 1142.78 Q64.0013 1138.12 65.1819 1136.78 Q67.4272 1134.26 68.3068 1132.52 Q69.2096 1130.76 69.2096 1129.07 Q69.2096 1126.32 67.2652 1124.58 Q65.3439 1122.85 62.2421 1122.85 Q60.043 1122.85 57.5893 1123.61 Q55.1588 1124.37 52.381 1125.92 L52.381 1121.2 Q55.2051 1120.07 57.6588 1119.49 Q60.1124 1118.91 62.1495 1118.91 Q67.5198 1118.91 70.7142 1121.6 Q73.9087 1124.28 73.9087 1128.77 Q73.9087 1130.9 73.0985 1132.82 Q72.3115 1134.72 70.205 1137.31 Q69.6263 1137.98 66.5245 1141.2 Q63.4226 1144.4 57.7745 1150.16 Z\" fill=\"#000000\" fill-rule=\"nonzero\" fill-opacity=\"1\" /><path clip-path=\"url(#clip790)\" d=\"M93.9086 1122.61 Q90.2975 1122.61 88.4688 1126.18 Q86.6632 1129.72 86.6632 1136.85 Q86.6632 1143.96 88.4688 1147.52 Q90.2975 1151.06 93.9086 1151.06 Q97.5428 1151.06 99.3483 1147.52 Q101.177 1143.96 101.177 1136.85 Q101.177 1129.72 99.3483 1126.18 Q97.5428 1122.61 93.9086 1122.61 M93.9086 1118.91 Q99.7187 1118.91 102.774 1123.52 Q105.853 1128.1 105.853 1136.85 Q105.853 1145.58 102.774 1150.18 Q99.7187 1154.77 93.9086 1154.77 Q88.0984 1154.77 85.0197 1150.18 Q81.9642 1145.58 81.9642 1136.85 Q81.9642 1128.1 85.0197 1123.52 Q88.0984 1118.91 93.9086 1118.91 Z\" fill=\"#000000\" fill-rule=\"nonzero\" fill-opacity=\"1\" /><path clip-path=\"url(#clip790)\" d=\"M124.07 1122.61 Q120.459 1122.61 118.631 1126.18 Q116.825 1129.72 116.825 1136.85 Q116.825 1143.96 118.631 1147.52 Q120.459 1151.06 124.07 1151.06 Q127.705 1151.06 129.51 1147.52 Q131.339 1143.96 131.339 1136.85 Q131.339 1129.72 129.51 1126.18 Q127.705 1122.61 124.07 1122.61 M124.07 1118.91 Q129.881 1118.91 132.936 1123.52 Q136.015 1128.1 136.015 1136.85 Q136.015 1145.58 132.936 1150.18 Q129.881 1154.77 124.07 1154.77 Q118.26 1154.77 115.182 1150.18 Q112.126 1145.58 112.126 1136.85 Q112.126 1128.1 115.182 1123.52 Q118.26 1118.91 124.07 1118.91 Z\" fill=\"#000000\" fill-rule=\"nonzero\" fill-opacity=\"1\" /><path clip-path=\"url(#clip790)\" d=\"M57.7745 957.097 L74.0939 957.097 L74.0939 961.032 L52.1495 961.032 L52.1495 957.097 Q54.8115 954.343 59.3949 949.713 Q64.0013 945.06 65.1819 943.718 Q67.4272 941.195 68.3068 939.458 Q69.2096 937.699 69.2096 936.009 Q69.2096 933.255 67.2652 931.519 Q65.3439 929.783 62.2421 929.783 Q60.043 929.783 57.5893 930.546 Q55.1588 931.31 52.381 932.861 L52.381 928.139 Q55.2051 927.005 57.6588 926.426 Q60.1124 925.847 62.1495 925.847 Q67.5198 925.847 70.7142 928.533 Q73.9087 931.218 73.9087 935.708 Q73.9087 937.838 73.0985 939.759 Q72.3115 941.658 70.205 944.25 Q69.6263 944.921 66.5245 948.139 Q63.4226 951.333 57.7745 957.097 Z\" fill=\"#000000\" fill-rule=\"nonzero\" fill-opacity=\"1\" /><path clip-path=\"url(#clip790)\" d=\"M83.9549 926.472 L102.311 926.472 L102.311 930.408 L88.2373 930.408 L88.2373 938.88 Q89.2558 938.533 90.2743 938.37 Q91.2928 938.185 92.3113 938.185 Q98.0984 938.185 101.478 941.357 Q104.858 944.528 104.858 949.944 Q104.858 955.523 101.385 958.625 Q97.9132 961.704 91.5938 961.704 Q89.4178 961.704 87.1493 961.333 Q84.904 960.963 82.4966 960.222 L82.4966 955.523 Q84.5799 956.657 86.8021 957.213 Q89.0243 957.769 91.5012 957.769 Q95.5058 957.769 97.8437 955.662 Q100.182 953.556 100.182 949.944 Q100.182 946.333 97.8437 944.227 Q95.5058 942.12 91.5012 942.12 Q89.6262 942.12 87.7512 942.537 Q85.8993 942.954 83.9549 943.833 L83.9549 926.472 Z\" fill=\"#000000\" fill-rule=\"nonzero\" fill-opacity=\"1\" /><path clip-path=\"url(#clip790)\" d=\"M124.07 929.551 Q120.459 929.551 118.631 933.116 Q116.825 936.658 116.825 943.787 Q116.825 950.894 118.631 954.458 Q120.459 958 124.07 958 Q127.705 958 129.51 954.458 Q131.339 950.894 131.339 943.787 Q131.339 936.658 129.51 933.116 Q127.705 929.551 124.07 929.551 M124.07 925.847 Q129.881 925.847 132.936 930.454 Q136.015 935.037 136.015 943.787 Q136.015 952.514 132.936 957.12 Q129.881 961.704 124.07 961.704 Q118.26 961.704 115.182 957.12 Q112.126 952.514 112.126 943.787 Q112.126 935.037 115.182 930.454 Q118.26 925.847 124.07 925.847 Z\" fill=\"#000000\" fill-rule=\"nonzero\" fill-opacity=\"1\" /><path clip-path=\"url(#clip790)\" d=\"M67.9133 749.335 Q71.2698 750.053 73.1448 752.322 Q75.0429 754.59 75.0429 757.923 Q75.0429 763.039 71.5244 765.84 Q68.0059 768.641 61.5245 768.641 Q59.3486 768.641 57.0338 768.201 Q54.7421 767.784 52.2884 766.928 L52.2884 762.414 Q54.2328 763.548 56.5477 764.127 Q58.8625 764.706 61.3856 764.706 Q65.7837 764.706 68.0754 762.97 Q70.3902 761.234 70.3902 757.923 Q70.3902 754.868 68.2374 753.155 Q66.1078 751.419 62.2884 751.419 L58.2606 751.419 L58.2606 747.576 L62.4735 747.576 Q65.9226 747.576 67.7513 746.21 Q69.58 744.822 69.58 742.229 Q69.58 739.567 67.6819 738.155 Q65.8069 736.72 62.2884 736.72 Q60.3671 736.72 58.168 737.136 Q55.969 737.553 53.3301 738.433 L53.3301 734.266 Q55.9921 733.525 58.3069 733.155 Q60.6449 732.785 62.705 732.785 Q68.0291 732.785 71.1309 735.215 Q74.2327 737.623 74.2327 741.743 Q74.2327 744.613 72.5892 746.604 Q70.9457 748.572 67.9133 749.335 Z\" fill=\"#000000\" fill-rule=\"nonzero\" fill-opacity=\"1\" /><path clip-path=\"url(#clip790)\" d=\"M93.9086 736.488 Q90.2975 736.488 88.4688 740.053 Q86.6632 743.595 86.6632 750.724 Q86.6632 757.831 88.4688 761.396 Q90.2975 764.937 93.9086 764.937 Q97.5428 764.937 99.3483 761.396 Q101.177 757.831 101.177 750.724 Q101.177 743.595 99.3483 740.053 Q97.5428 736.488 93.9086 736.488 M93.9086 732.785 Q99.7187 732.785 102.774 737.391 Q105.853 741.974 105.853 750.724 Q105.853 759.451 102.774 764.058 Q99.7187 768.641 93.9086 768.641 Q88.0984 768.641 85.0197 764.058 Q81.9642 759.451 81.9642 750.724 Q81.9642 741.974 85.0197 737.391 Q88.0984 732.785 93.9086 732.785 Z\" fill=\"#000000\" fill-rule=\"nonzero\" fill-opacity=\"1\" /><path clip-path=\"url(#clip790)\" d=\"M124.07 736.488 Q120.459 736.488 118.631 740.053 Q116.825 743.595 116.825 750.724 Q116.825 757.831 118.631 761.396 Q120.459 764.937 124.07 764.937 Q127.705 764.937 129.51 761.396 Q131.339 757.831 131.339 750.724 Q131.339 743.595 129.51 740.053 Q127.705 736.488 124.07 736.488 M124.07 732.785 Q129.881 732.785 132.936 737.391 Q136.015 741.974 136.015 750.724 Q136.015 759.451 132.936 764.058 Q129.881 768.641 124.07 768.641 Q118.26 768.641 115.182 764.058 Q112.126 759.451 112.126 750.724 Q112.126 741.974 115.182 737.391 Q118.26 732.785 124.07 732.785 Z\" fill=\"#000000\" fill-rule=\"nonzero\" fill-opacity=\"1\" /><path clip-path=\"url(#clip790)\" d=\"M67.9133 556.273 Q71.2698 556.99 73.1448 559.259 Q75.0429 561.527 75.0429 564.861 Q75.0429 569.976 71.5244 572.777 Q68.0059 575.578 61.5245 575.578 Q59.3486 575.578 57.0338 575.138 Q54.7421 574.722 52.2884 573.865 L52.2884 569.351 Q54.2328 570.486 56.5477 571.064 Q58.8625 571.643 61.3856 571.643 Q65.7837 571.643 68.0754 569.907 Q70.3902 568.171 70.3902 564.861 Q70.3902 561.805 68.2374 560.092 Q66.1078 558.356 62.2884 558.356 L58.2606 558.356 L58.2606 554.513 L62.4735 554.513 Q65.9226 554.513 67.7513 553.148 Q69.58 551.759 69.58 549.166 Q69.58 546.504 67.6819 545.092 Q65.8069 543.657 62.2884 543.657 Q60.3671 543.657 58.168 544.074 Q55.969 544.49 53.3301 545.37 L53.3301 541.203 Q55.9921 540.463 58.3069 540.092 Q60.6449 539.722 62.705 539.722 Q68.0291 539.722 71.1309 542.152 Q74.2327 544.56 74.2327 548.68 Q74.2327 551.55 72.5892 553.541 Q70.9457 555.509 67.9133 556.273 Z\" fill=\"#000000\" fill-rule=\"nonzero\" fill-opacity=\"1\" /><path clip-path=\"url(#clip790)\" d=\"M83.9549 540.347 L102.311 540.347 L102.311 544.282 L88.2373 544.282 L88.2373 552.754 Q89.2558 552.407 90.2743 552.245 Q91.2928 552.06 92.3113 552.06 Q98.0984 552.06 101.478 555.231 Q104.858 558.402 104.858 563.819 Q104.858 569.398 101.385 572.499 Q97.9132 575.578 91.5938 575.578 Q89.4178 575.578 87.1493 575.208 Q84.904 574.837 82.4966 574.097 L82.4966 569.398 Q84.5799 570.532 86.8021 571.087 Q89.0243 571.643 91.5012 571.643 Q95.5058 571.643 97.8437 569.536 Q100.182 567.43 100.182 563.819 Q100.182 560.208 97.8437 558.101 Q95.5058 555.995 91.5012 555.995 Q89.6262 555.995 87.7512 556.412 Q85.8993 556.828 83.9549 557.708 L83.9549 540.347 Z\" fill=\"#000000\" fill-rule=\"nonzero\" fill-opacity=\"1\" /><path clip-path=\"url(#clip790)\" d=\"M124.07 543.425 Q120.459 543.425 118.631 546.99 Q116.825 550.532 116.825 557.662 Q116.825 564.768 118.631 568.333 Q120.459 571.874 124.07 571.874 Q127.705 571.874 129.51 568.333 Q131.339 564.768 131.339 557.662 Q131.339 550.532 129.51 546.99 Q127.705 543.425 124.07 543.425 M124.07 539.722 Q129.881 539.722 132.936 544.328 Q136.015 548.912 136.015 557.662 Q136.015 566.388 132.936 570.995 Q129.881 575.578 124.07 575.578 Q118.26 575.578 115.182 570.995 Q112.126 566.388 112.126 557.662 Q112.126 548.912 115.182 544.328 Q118.26 539.722 124.07 539.722 Z\" fill=\"#000000\" fill-rule=\"nonzero\" fill-opacity=\"1\" /><path clip-path=\"url(#clip790)\" d=\"M66.5939 351.358 L54.7884 369.807 L66.5939 369.807 L66.5939 351.358 M65.367 347.284 L71.2466 347.284 L71.2466 369.807 L76.1772 369.807 L76.1772 373.696 L71.2466 373.696 L71.2466 381.844 L66.5939 381.844 L66.5939 373.696 L50.9921 373.696 L50.9921 369.182 L65.367 347.284 Z\" fill=\"#000000\" fill-rule=\"nonzero\" fill-opacity=\"1\" /><path clip-path=\"url(#clip790)\" d=\"M93.9086 350.363 Q90.2975 350.363 88.4688 353.927 Q86.6632 357.469 86.6632 364.599 Q86.6632 371.705 88.4688 375.27 Q90.2975 378.812 93.9086 378.812 Q97.5428 378.812 99.3483 375.27 Q101.177 371.705 101.177 364.599 Q101.177 357.469 99.3483 353.927 Q97.5428 350.363 93.9086 350.363 M93.9086 346.659 Q99.7187 346.659 102.774 351.265 Q105.853 355.849 105.853 364.599 Q105.853 373.326 102.774 377.932 Q99.7187 382.515 93.9086 382.515 Q88.0984 382.515 85.0197 377.932 Q81.9642 373.326 81.9642 364.599 Q81.9642 355.849 85.0197 351.265 Q88.0984 346.659 93.9086 346.659 Z\" fill=\"#000000\" fill-rule=\"nonzero\" fill-opacity=\"1\" /><path clip-path=\"url(#clip790)\" d=\"M124.07 350.363 Q120.459 350.363 118.631 353.927 Q116.825 357.469 116.825 364.599 Q116.825 371.705 118.631 375.27 Q120.459 378.812 124.07 378.812 Q127.705 378.812 129.51 375.27 Q131.339 371.705 131.339 364.599 Q131.339 357.469 129.51 353.927 Q127.705 350.363 124.07 350.363 M124.07 346.659 Q129.881 346.659 132.936 351.265 Q136.015 355.849 136.015 364.599 Q136.015 373.326 132.936 377.932 Q129.881 382.515 124.07 382.515 Q118.26 382.515 115.182 377.932 Q112.126 373.326 112.126 364.599 Q112.126 355.849 115.182 351.265 Q118.26 346.659 124.07 346.659 Z\" fill=\"#000000\" fill-rule=\"nonzero\" fill-opacity=\"1\" /><path clip-path=\"url(#clip790)\" d=\"M66.5939 158.295 L54.7884 176.744 L66.5939 176.744 L66.5939 158.295 M65.367 154.221 L71.2466 154.221 L71.2466 176.744 L76.1772 176.744 L76.1772 180.633 L71.2466 180.633 L71.2466 188.781 L66.5939 188.781 L66.5939 180.633 L50.9921 180.633 L50.9921 176.119 L65.367 154.221 Z\" fill=\"#000000\" fill-rule=\"nonzero\" fill-opacity=\"1\" /><path clip-path=\"url(#clip790)\" d=\"M83.9549 154.221 L102.311 154.221 L102.311 158.156 L88.2373 158.156 L88.2373 166.629 Q89.2558 166.281 90.2743 166.119 Q91.2928 165.934 92.3113 165.934 Q98.0984 165.934 101.478 169.105 Q104.858 172.277 104.858 177.693 Q104.858 183.272 101.385 186.374 Q97.9132 189.452 91.5938 189.452 Q89.4178 189.452 87.1493 189.082 Q84.904 188.712 82.4966 187.971 L82.4966 183.272 Q84.5799 184.406 86.8021 184.962 Q89.0243 185.517 91.5012 185.517 Q95.5058 185.517 97.8437 183.411 Q100.182 181.304 100.182 177.693 Q100.182 174.082 97.8437 171.976 Q95.5058 169.869 91.5012 169.869 Q89.6262 169.869 87.7512 170.286 Q85.8993 170.703 83.9549 171.582 L83.9549 154.221 Z\" fill=\"#000000\" fill-rule=\"nonzero\" fill-opacity=\"1\" /><path clip-path=\"url(#clip790)\" d=\"M124.07 157.3 Q120.459 157.3 118.631 160.865 Q116.825 164.406 116.825 171.536 Q116.825 178.642 118.631 182.207 Q120.459 185.749 124.07 185.749 Q127.705 185.749 129.51 182.207 Q131.339 178.642 131.339 171.536 Q131.339 164.406 129.51 160.865 Q127.705 157.3 124.07 157.3 M124.07 153.596 Q129.881 153.596 132.936 158.203 Q136.015 162.786 136.015 171.536 Q136.015 180.263 132.936 184.869 Q129.881 189.452 124.07 189.452 Q118.26 189.452 115.182 184.869 Q112.126 180.263 112.126 171.536 Q112.126 162.786 115.182 158.203 Q118.26 153.596 124.07 153.596 Z\" fill=\"#000000\" fill-rule=\"nonzero\" fill-opacity=\"1\" /><polyline clip-path=\"url(#clip792)\" style=\"stroke:#ff0000; stroke-linecap:round; stroke-linejoin:round; stroke-width:8; stroke-opacity:1; fill:none\" points=\"172.015,596.239 186.213,601.77 317.492,652.908 396.385,683.64 463.089,709.616 499.318,723.681 535.547,737.487 552.247,743.549 568.947,749.141 585.647,753.858 602.348,757.021 611.3,757.73 620.252,757.482 629.204,756.021 638.156,753.044 647.108,748.209 656.06,741.14 665.013,731.432 673.965,718.673 679.151,709.727 684.337,699.548 689.523,688.069 694.708,675.232 699.894,660.987 705.08,645.298 710.266,628.146 715.452,609.526 720.638,589.455 725.824,567.97 731.01,545.131 736.196,521.023 746.568,469.472 756.94,414.511 766.157,364.088 775.375,313.583 784.592,264.525 793.809,218.543 798.418,197.226 803.027,177.295 807.635,158.948 812.244,142.37 816.853,127.734 821.461,115.197 826.07,104.9 830.679,96.96 834.72,92.0153 838.762,89.0089 842.803,87.9763 846.844,88.9378 850.886,91.8982 854.927,96.8466 858.968,103.757 863.01,112.588 867.051,123.284 871.093,135.775 875.134,149.978 879.175,165.8 883.217,183.135 887.258,201.868 891.3,221.876 895.341,243.031 904.153,292.482 912.966,345.301 921.778,400.047 930.591,455.335 939.403,509.903 948.215,562.654 957.028,612.687 965.84,659.314 970.273,681.322 974.705,702.305 979.137,722.236 983.57,741.099 988.002,758.889 992.434,775.611 996.867,791.279 1001.3,805.916 1005.73,819.55 1010.16,832.217 1014.6,843.956 1019.03,854.81 1027.89,874.055 1036.76,890.343 1046.56,905.393 1056.36,917.844 1066.16,928.181 1075.96,936.838 1085.76,944.187 1095.57,950.538 1105.37,956.142 1115.17,961.199 1152.47,977.72 1189.77,992.628 1267.34,1022.91 1332.64,1048.34 1412.36,1079.4 1485.39,1107.85 1552.84,1134.12 1621.17,1160.74 1697.74,1190.56 1767.12,1217.59 1846.57,1248.54 1920.12,1277.19 1992.64,1305.44 2063.05,1332.87 2135.23,1360.98 2214.31,1391.79 2329.19,1436.54 2352.76,1445.72 \"/>\n",
       "</svg>\n"
      ]
     },
     "execution_count": 38,
     "metadata": {},
     "output_type": "execute_result"
    }
   ],
   "source": [
    "function gauss(x::Float64, mean::Float64, sigma::Float64)::Float64\n",
    "    exp(-0.5 * ((x - mean) / sigma) ^ 2) / (sqrt(2 * pi) * sigma)\n",
    "end\n",
    "\n",
    "function peak(x::Float64)::Float64\n",
    "    400 - 4 * x + 1000 * gauss(x, 32.0, 2.0)\n",
    "end\n",
    "\n",
    "plot(\n",
    "    peak,\n",
    "    xlimits = (15, 70),\n",
    "    color = :red,\n",
    "    linewidth = 2,\n",
    "    label = \"\"\n",
    ")"
   ]
  },
  {
   "cell_type": "code",
   "execution_count": 37,
   "id": "e056e692-3f7c-4923-bb20-b4a84ae28fbf",
   "metadata": {},
   "outputs": [
    {
     "data": {
      "text/plain": [
       "13650.41036758366"
      ]
     },
     "execution_count": 37,
     "metadata": {},
     "output_type": "execute_result"
    }
   ],
   "source": [
    "adjustor_1d(15.0, 70.0, 1.0, peak, gauss3_1d, 6)"
   ]
  },
  {
   "cell_type": "code",
   "execution_count": null,
   "id": "a6265eee-7b75-4f85-83ad-58c2f2fab34d",
   "metadata": {},
   "outputs": [],
   "source": []
  }
 ],
 "metadata": {
  "kernelspec": {
   "display_name": "Julia 1.8.0",
   "language": "julia",
   "name": "julia-1.8"
  },
  "language_info": {
   "file_extension": ".jl",
   "mimetype": "application/julia",
   "name": "julia",
   "version": "1.9.0"
  }
 },
 "nbformat": 4,
 "nbformat_minor": 5
}
